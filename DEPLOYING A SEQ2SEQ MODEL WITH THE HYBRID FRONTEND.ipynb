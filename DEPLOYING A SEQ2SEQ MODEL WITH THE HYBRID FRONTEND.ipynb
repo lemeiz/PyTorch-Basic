{
 "cells": [
  {
   "cell_type": "markdown",
   "metadata": {},
   "source": [
    "## DEPLOYING A SEQ2SEQ MODEL WITH THE HYBRID FRONTEND\n",
    "\n",
    "Sorce code is from website:\n",
    "https://pytorch.org/tutorials/beginner/deploy_seq2seq_hybrid_frontend_tutorial.html\n",
    "\n",
    "This tutorial will walk through the process of transitioning a sequence-to-sequence model to Torch Script using PyTorch’s Hybrid Frontend. The model that we will convert is the chatbot model from the [Chatbot tutorial](https://pytorch.org/tutorials/beginner/chatbot_tutorial.html). You can either treat this tutorial as a “Part 2” to the Chatbot tutorial and deploy your own pretrained model, or you can start with this document and use a pretrained model that we host. In the latter case, you can reference the original Chatbot tutorial for details regarding data preprocessing, model theory and definition, and model training."
   ]
  },
  {
   "cell_type": "code",
   "execution_count": null,
   "metadata": {
    "collapsed": true
   },
   "outputs": [],
   "source": []
  }
 ],
 "metadata": {
  "kernelspec": {
   "display_name": "Python 2",
   "language": "python",
   "name": "python2"
  },
  "language_info": {
   "codemirror_mode": {
    "name": "ipython",
    "version": 2
   },
   "file_extension": ".py",
   "mimetype": "text/x-python",
   "name": "python",
   "nbconvert_exporter": "python",
   "pygments_lexer": "ipython2",
   "version": "2.7.13"
  }
 },
 "nbformat": 4,
 "nbformat_minor": 2
}
